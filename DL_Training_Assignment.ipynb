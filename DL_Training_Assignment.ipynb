{
  "nbformat": 4,
  "nbformat_minor": 0,
  "metadata": {
    "colab": {
      "name": "DL_Training_Assignment.ipynb",
      "provenance": [],
      "authorship_tag": "ABX9TyO47MaC558OubbtMegRrZlG",
      "include_colab_link": true
    },
    "kernelspec": {
      "name": "python3",
      "display_name": "Python 3"
    },
    "accelerator": "GPU"
  },
  "cells": [
    {
      "cell_type": "markdown",
      "metadata": {
        "id": "view-in-github",
        "colab_type": "text"
      },
      "source": [
        "<a href=\"https://colab.research.google.com/github/nupursjsu/Reinforcement_Learning/blob/main/DL_Training_Assignment.ipynb\" target=\"_parent\"><img src=\"https://colab.research.google.com/assets/colab-badge.svg\" alt=\"Open In Colab\"/></a>"
      ]
    },
    {
      "cell_type": "markdown",
      "metadata": {
        "id": "ug0b1LcbAfa6"
      },
      "source": [
        "In this colab I have demonstrated the following :\n",
        "\n",
        "\n",
        "\n",
        "1.   **Adding He initialization (Kaiming)** and comparing the training results with the base model\n",
        "2.   **Adding Nadam optimization** and comparing the training results with the base model\n",
        "3.   **Combining the two modification** and explaining the overall impact of these two enhancements\n",
        "\n",
        "All the results are provided in the conclusion section at the bottom of the colab.\n",
        "\n"
      ]
    },
    {
      "cell_type": "code",
      "metadata": {
        "id": "SesKsUwB0g8b"
      },
      "source": [
        "#Importing required libraries\n",
        "import torch \n",
        "import torch.nn as nn\n",
        "import torchvision\n",
        "import torchvision.transforms as transforms"
      ],
      "execution_count": 155,
      "outputs": []
    },
    {
      "cell_type": "code",
      "metadata": {
        "id": "FRiVhYQ60mOP"
      },
      "source": [
        "#Device configuration\n",
        "device = torch.device('cuda:0' if torch.cuda.is_available() else 'cpu')"
      ],
      "execution_count": 156,
      "outputs": []
    },
    {
      "cell_type": "code",
      "metadata": {
        "id": "T9Oa8zGi0svF"
      },
      "source": [
        "#Initializing Hyper parameters\n",
        "num_epochs = 5\n",
        "num_classes = 10\n",
        "batch_size = 100\n",
        "learning_rate = 0.001"
      ],
      "execution_count": 157,
      "outputs": []
    },
    {
      "cell_type": "code",
      "metadata": {
        "id": "TNCDsnSP0wn9"
      },
      "source": [
        "#Getting MNIST dataset\n",
        "train_dataset = torchvision.datasets.MNIST(root='../../data/',\n",
        "                                           train=True, \n",
        "                                           transform=transforms.ToTensor(),\n",
        "                                           download=True)\n",
        "\n",
        "test_dataset = torchvision.datasets.MNIST(root='../../data/',\n",
        "                                          train=False, \n",
        "                                          transform=transforms.ToTensor())"
      ],
      "execution_count": 158,
      "outputs": []
    },
    {
      "cell_type": "code",
      "metadata": {
        "id": "dtJlfuew00iA"
      },
      "source": [
        "#Data loader\n",
        "train_loader = torch.utils.data.DataLoader(dataset=train_dataset,\n",
        "                                           batch_size=batch_size, \n",
        "                                           shuffle=True)\n",
        "\n",
        "test_loader = torch.utils.data.DataLoader(dataset=test_dataset,\n",
        "                                          batch_size=batch_size, \n",
        "                                          shuffle=False)"
      ],
      "execution_count": 159,
      "outputs": []
    },
    {
      "cell_type": "code",
      "metadata": {
        "id": "LXH6BtEs04ch"
      },
      "source": [
        "#Convolutional neural network (two convolutional layers)\n",
        "class ConvNet(nn.Module):\n",
        "    def __init__(self, num_classes=10):\n",
        "        super(ConvNet, self).__init__()\n",
        "        self.layer1 = nn.Sequential(\n",
        "            nn.Conv2d(1, 16, kernel_size=5, stride=1, padding=2),\n",
        "            nn.BatchNorm2d(16),\n",
        "            nn.ReLU(),\n",
        "            nn.MaxPool2d(kernel_size=2, stride=2))\n",
        "        self.layer2 = nn.Sequential(\n",
        "            nn.Conv2d(16, 32, kernel_size=5, stride=1, padding=2),\n",
        "            nn.BatchNorm2d(32),\n",
        "            nn.ReLU(),\n",
        "            nn.MaxPool2d(kernel_size=2, stride=2))\n",
        "        self.fc = nn.Linear(7*7*32, num_classes)\n",
        "        \n",
        "    def forward(self, x):\n",
        "        out = self.layer1(x)\n",
        "        out = self.layer2(out)\n",
        "        out = out.reshape(out.size(0), -1)\n",
        "        out = self.fc(out)\n",
        "        return out"
      ],
      "execution_count": 160,
      "outputs": []
    },
    {
      "cell_type": "code",
      "metadata": {
        "id": "cDSPHK1K085b"
      },
      "source": [
        "model = ConvNet(num_classes).to(device)"
      ],
      "execution_count": 161,
      "outputs": []
    },
    {
      "cell_type": "markdown",
      "metadata": {
        "id": "BmMo_GWsBOgO"
      },
      "source": [
        " **Using He initialization (Kaiming) to initialize the weights of the model**"
      ]
    },
    {
      "cell_type": "code",
      "metadata": {
        "id": "XWTotTzO5bhH"
      },
      "source": [
        "def weights_init(m):\n",
        "    if isinstance(m, nn.Conv2d):\n",
        "        nn.init.kaiming_uniform(m.weight.data)\n",
        "        nn.init.zeros_(m.bias.data)"
      ],
      "execution_count": 162,
      "outputs": []
    },
    {
      "cell_type": "code",
      "metadata": {
        "id": "rJkzjfpk58ut",
        "outputId": "3bb6e113-c8f2-45b8-d5a7-f3d99227fc35",
        "colab": {
          "base_uri": "https://localhost:8080/",
          "height": 306
        }
      },
      "source": [
        "#Applying the Kaiming initialization\n",
        "model.apply(weights_init)"
      ],
      "execution_count": 163,
      "outputs": [
        {
          "output_type": "stream",
          "text": [
            "/usr/local/lib/python3.6/dist-packages/ipykernel_launcher.py:3: UserWarning: nn.init.kaiming_uniform is now deprecated in favor of nn.init.kaiming_uniform_.\n",
            "  This is separate from the ipykernel package so we can avoid doing imports until\n"
          ],
          "name": "stderr"
        },
        {
          "output_type": "execute_result",
          "data": {
            "text/plain": [
              "ConvNet(\n",
              "  (layer1): Sequential(\n",
              "    (0): Conv2d(1, 16, kernel_size=(5, 5), stride=(1, 1), padding=(2, 2))\n",
              "    (1): BatchNorm2d(16, eps=1e-05, momentum=0.1, affine=True, track_running_stats=True)\n",
              "    (2): ReLU()\n",
              "    (3): MaxPool2d(kernel_size=2, stride=2, padding=0, dilation=1, ceil_mode=False)\n",
              "  )\n",
              "  (layer2): Sequential(\n",
              "    (0): Conv2d(16, 32, kernel_size=(5, 5), stride=(1, 1), padding=(2, 2))\n",
              "    (1): BatchNorm2d(32, eps=1e-05, momentum=0.1, affine=True, track_running_stats=True)\n",
              "    (2): ReLU()\n",
              "    (3): MaxPool2d(kernel_size=2, stride=2, padding=0, dilation=1, ceil_mode=False)\n",
              "  )\n",
              "  (fc): Linear(in_features=1568, out_features=10, bias=True)\n",
              ")"
            ]
          },
          "metadata": {
            "tags": []
          },
          "execution_count": 163
        }
      ]
    },
    {
      "cell_type": "code",
      "metadata": {
        "id": "4jxoHRsR0-vU"
      },
      "source": [
        "# Loss and optimizer\n",
        "criterion = nn.CrossEntropyLoss()\n",
        "# optimizer = torch.optim.Adam(model.parameters(), lr=learning_rate)"
      ],
      "execution_count": 164,
      "outputs": []
    },
    {
      "cell_type": "markdown",
      "metadata": {
        "id": "J9axFGW4BwLP"
      },
      "source": [
        "**Implementing Nadam optimizer of our model** \n",
        "\n",
        "Source: https://github.com/pytorch/pytorch/pull/1414/files"
      ]
    },
    {
      "cell_type": "code",
      "metadata": {
        "id": "ltGJOYpV8kqb"
      },
      "source": [
        "import math\n",
        "from torch.optim.optimizer import Optimizer\n",
        "\n",
        "class Nadam(Optimizer):\n",
        "    \"\"\"Implements Nadam algorithm.\n",
        "    It has been proposed in `Incorporating Nesterov Momentum into Adam`_.\n",
        "    Arguments:\n",
        "        params (iterable): iterable of parameters to optimize or dicts defining\n",
        "            parameter groups\n",
        "        lr (float, optional): learning rate (default: 2e-3)\n",
        "        betas (Tuple[float, float], optional): coefficients used for computing\n",
        "            running averages of gradient and its square (default: (0.975, 0.999))\n",
        "        eps (float, optional): term added to the denominator to improve\n",
        "            numerical stability (default: 1e-8)\n",
        "        schedule_decay (float, optional): beta1 decay factor (default: 0)\n",
        "        weight_decay (float, optional): weight decay (L2 penalty) (default: 0)\n",
        "    .. _Incorporating Nesterov Momentum into Adam\n",
        "        https://openreview.net/pdf?id=OM0jvwB8jIp57ZJjtNEZ\n",
        "    \"\"\"\n",
        "\n",
        "    def __init__(self, params, lr=2e-3, betas=(0.975, 0.999), eps=1e-8,\n",
        "                 schedule_decay=0, weight_decay=0):\n",
        "        defaults = dict(lr=lr, betas=betas, eps=eps,\n",
        "                        schedule_decay=schedule_decay, weight_decay=weight_decay,\n",
        "                        prod_beta1=1.)\n",
        "        super(Nadam, self).__init__(params, defaults)\n",
        "\n",
        "    def step(self, closure=None):\n",
        "        \"\"\"Performs a single optimization step.\n",
        "        Arguments:\n",
        "            closure (callable, optional): A closure that reevaluates the model\n",
        "                and returns the loss.\n",
        "        \"\"\"\n",
        "        loss = None\n",
        "        if closure is not None:\n",
        "            loss = closure()\n",
        "\n",
        "        for group in self.param_groups:\n",
        "            beta1, beta2 = group['betas']\n",
        "\n",
        "            for p in group['params']:\n",
        "                if p.grad is None:\n",
        "                    continue\n",
        "                grad = p.grad.data\n",
        "                state = self.state[p]\n",
        "\n",
        "                # State initialization\n",
        "                if len(state) == 0:\n",
        "                    state['step'] = 0\n",
        "                    # Exponential moving average of gradient values\n",
        "                    state['exp_avg'] = grad.new().resize_as_(grad).zero_()\n",
        "                    # Exponential moving average of squared gradient values\n",
        "                    state['exp_avg_sq'] = grad.new().resize_as_(grad).zero_()\n",
        "\n",
        "                exp_avg, exp_avg_sq = state['exp_avg'], state['exp_avg_sq']\n",
        "                state['step'] += 1\n",
        "\n",
        "                if group['weight_decay'] != 0:\n",
        "                    grad = grad.add(group['weight_decay'], p.data)\n",
        "\n",
        "                schedule_decay = group['schedule_decay']\n",
        "                cur_beta1 = beta1 * (1. - 0.5 * (0.96 ** (state['step'] * schedule_decay)))\n",
        "                next_beta1 = beta1 * (1. - 0.5 * (0.96 ** ((state['step'] + 1) * schedule_decay)))\n",
        "                prod_beta1 = group['prod_beta1']\n",
        "                prod_beta1 *= cur_beta1\n",
        "                next_prod_beta1 = prod_beta1 * next_beta1\n",
        "                bias_correction1 = (1 - cur_beta1) / (1 - prod_beta1)\n",
        "                next_bias_correction1 = next_beta1 / (1 - next_prod_beta1)\n",
        "\n",
        "                # Decay the first and second moment running average coefficient\n",
        "                exp_avg.mul_(cur_beta1).add_(1 - cur_beta1, grad)\n",
        "                exp_avg_sq.mul_(beta2).addcmul_(1 - beta2, grad, grad)\n",
        "\n",
        "                sqrt_bias_correction2 = math.sqrt((1 - beta2 ** state['step']) / beta2)\n",
        "                step_size = group['lr'] * sqrt_bias_correction2\n",
        "\n",
        "                denom = exp_avg_sq.sqrt().add_(group['eps'])\n",
        "\n",
        "                # For memory efficiency, separate update into two\n",
        "                p.data.addcdiv_(-step_size * next_bias_correction1, exp_avg, denom)\n",
        "                p.data.addcdiv_(-step_size * bias_correction1, grad, denom)\n",
        "\n",
        "                # update prod_beta1\n",
        "                group['prod_beta1'] = prod_beta1\n",
        "\n",
        "        return loss"
      ],
      "execution_count": 165,
      "outputs": []
    },
    {
      "cell_type": "markdown",
      "metadata": {
        "id": "ovJfUlp8Di6R"
      },
      "source": [
        "**Applying Nadam optimizer**"
      ]
    },
    {
      "cell_type": "code",
      "metadata": {
        "id": "xJMrmFq9Dgp9"
      },
      "source": [
        "optimizer = Nadam(model.parameters(), lr=learning_rate)"
      ],
      "execution_count": 166,
      "outputs": []
    },
    {
      "cell_type": "code",
      "metadata": {
        "id": "K6zAAQkA1CuV",
        "outputId": "2ee6afe9-2b1b-4ef8-cca3-10897b6687d7",
        "colab": {
          "base_uri": "https://localhost:8080/",
          "height": 527
        }
      },
      "source": [
        "# Train the model\n",
        "total_step = len(train_loader)\n",
        "for epoch in range(num_epochs):\n",
        "    for i, (images, labels) in enumerate(train_loader):\n",
        "        images = images.to(device)\n",
        "        labels = labels.to(device)\n",
        "        \n",
        "        # Forward pass\n",
        "        outputs = model(images)\n",
        "        loss = criterion(outputs, labels)\n",
        "        \n",
        "        # Backward and optimize\n",
        "        optimizer.zero_grad()\n",
        "        loss.backward()\n",
        "        optimizer.step()\n",
        "        \n",
        "        if (i+1) % 100 == 0:\n",
        "            print ('Epoch [{}/{}], Step [{}/{}], Loss: {:.4f}' \n",
        "                   .format(epoch+1, num_epochs, i+1, total_step, loss.item()))"
      ],
      "execution_count": 167,
      "outputs": [
        {
          "output_type": "stream",
          "text": [
            "Epoch [1/5], Step [100/600], Loss: 0.2017\n",
            "Epoch [1/5], Step [200/600], Loss: 0.0794\n",
            "Epoch [1/5], Step [300/600], Loss: 0.1384\n",
            "Epoch [1/5], Step [400/600], Loss: 0.0373\n",
            "Epoch [1/5], Step [500/600], Loss: 0.0312\n",
            "Epoch [1/5], Step [600/600], Loss: 0.1105\n",
            "Epoch [2/5], Step [100/600], Loss: 0.0308\n",
            "Epoch [2/5], Step [200/600], Loss: 0.0210\n",
            "Epoch [2/5], Step [300/600], Loss: 0.0980\n",
            "Epoch [2/5], Step [400/600], Loss: 0.0238\n",
            "Epoch [2/5], Step [500/600], Loss: 0.0626\n",
            "Epoch [2/5], Step [600/600], Loss: 0.0082\n",
            "Epoch [3/5], Step [100/600], Loss: 0.0519\n",
            "Epoch [3/5], Step [200/600], Loss: 0.0133\n",
            "Epoch [3/5], Step [300/600], Loss: 0.0467\n",
            "Epoch [3/5], Step [400/600], Loss: 0.0065\n",
            "Epoch [3/5], Step [500/600], Loss: 0.0234\n",
            "Epoch [3/5], Step [600/600], Loss: 0.0865\n",
            "Epoch [4/5], Step [100/600], Loss: 0.0107\n",
            "Epoch [4/5], Step [200/600], Loss: 0.0349\n",
            "Epoch [4/5], Step [300/600], Loss: 0.0263\n",
            "Epoch [4/5], Step [400/600], Loss: 0.0525\n",
            "Epoch [4/5], Step [500/600], Loss: 0.0145\n",
            "Epoch [4/5], Step [600/600], Loss: 0.0671\n",
            "Epoch [5/5], Step [100/600], Loss: 0.0146\n",
            "Epoch [5/5], Step [200/600], Loss: 0.0569\n",
            "Epoch [5/5], Step [300/600], Loss: 0.0656\n",
            "Epoch [5/5], Step [400/600], Loss: 0.0131\n",
            "Epoch [5/5], Step [500/600], Loss: 0.0485\n",
            "Epoch [5/5], Step [600/600], Loss: 0.0083\n"
          ],
          "name": "stdout"
        }
      ]
    },
    {
      "cell_type": "code",
      "metadata": {
        "id": "xv8Quemy1Gbg",
        "outputId": "3be8d369-9c8e-4a36-ec11-a050d3b256ef",
        "colab": {
          "base_uri": "https://localhost:8080/",
          "height": 34
        }
      },
      "source": [
        "# Test the model\n",
        "model.eval()  # eval mode (batchnorm uses moving mean/variance instead of mini-batch mean/variance)\n",
        "with torch.no_grad():\n",
        "    correct = 0\n",
        "    total = 0\n",
        "    for images, labels in test_loader:\n",
        "        images = images.to(device)\n",
        "        labels = labels.to(device)\n",
        "        outputs = model(images)\n",
        "        _, predicted = torch.max(outputs.data, 1)\n",
        "        total += labels.size(0)\n",
        "        correct += (predicted == labels).sum().item()\n",
        "\n",
        "    print('Test Accuracy of the model on the 10000 test images: {} %'.format(100 * correct / total))"
      ],
      "execution_count": 168,
      "outputs": [
        {
          "output_type": "stream",
          "text": [
            "Test Accuracy of the model on the 10000 test images: 98.79 %\n"
          ],
          "name": "stdout"
        }
      ]
    },
    {
      "cell_type": "code",
      "metadata": {
        "id": "-k-lcsd71I0d"
      },
      "source": [
        "# Save the model checkpoint\n",
        "torch.save(model.state_dict(), 'model.ckpt')"
      ],
      "execution_count": 169,
      "outputs": []
    },
    {
      "cell_type": "markdown",
      "metadata": {
        "id": "be3mY_HuDsgG"
      },
      "source": [
        "## Conclusion\n",
        "\n",
        "**The base model was getting an accuracy of 98.78%** with default initialization and adam optimizer\n",
        "\n",
        "1.   Adding He initialization **(Kaiming) resulted in an accuracy of 98.56%** which is a bit low than the base model\n",
        "2.   Adding **Nadam optimizer resulted in an accuracy of 98.66%** which is also a bit low than the base model accuracy\n",
        "3.   **Combining the two modification yielded an accuracy of 98.79%** which is .01 higher than the base model accuracy\n",
        "\n"
      ]
    }
  ]
}